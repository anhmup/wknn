{
 "cells": [
  {
   "cell_type": "code",
   "execution_count": 51,
   "metadata": {},
   "outputs": [
    {
     "name": "stdout",
     "output_type": "stream",
     "text": [
      "2.0\n"
     ]
    }
   ],
   "source": [
    "from math import sqrt\n",
    "import numpy as np\n",
    "from array import *\n",
    "a = sqrt(4)\n",
    "print(a)"
   ]
  },
  {
   "cell_type": "code",
   "execution_count": 34,
   "metadata": {},
   "outputs": [
    {
     "name": "stdout",
     "output_type": "stream",
     "text": [
      "18\n"
     ]
    }
   ],
   "source": [
    "dataset = [\n",
    "    [0.8,0.8,1],\n",
    "    [1.0,1.0,1],\n",
    "    [1.2,0.8,1],\n",
    "    [0.8,1.2,1],\n",
    "    [1.2,1.2,1],\n",
    "    [4.0,3.0,2],\n",
    "    [3.8,2.8,2],\n",
    "    [4.2,2.8,2],\n",
    "    [3.8,3.2,2],\n",
    "    [4.2,3.2,2],\n",
    "    [4.4,2.8,2],\n",
    "    [4.4,3.2,2],\n",
    "    [3.2,0.4,3],\n",
    "    [3.2,0.7,3],\n",
    "    [3.8,0.5,3],\n",
    "    [3.5,1.0,3],\n",
    "    [4.0,1.0,3],\n",
    "    [4.0,0.7,3],\n",
    "\n",
    "]\n",
    "print(len(dataset))"
   ]
  },
  {
   "cell_type": "code",
   "execution_count": 43,
   "metadata": {},
   "outputs": [],
   "source": [
    "def Euclidean_distance(row1, row2):\n",
    "    distance = 0\n",
    "    for i in range(len(row1)):\n",
    "        distance += (row1[i] - row2[i])**2            #(x1-x2)**2+(y1-y2)**2\n",
    "    final_dist = sqrt(distance)\n",
    "    final_dist = final_dist + 0\n",
    "    return final_dist\n",
    "\n",
    "def Get_Neighbors(train, test_row, num):\n",
    "    distance =[] #list() # []\n",
    "    data = []\n",
    "    for i in train:\n",
    "        dist = Euclidean_distance(test_row, i)\n",
    "        tmp = dist\n",
    "        distance.append(dist)\n",
    "        data.append(i)\n",
    "    distance = np.array(distance)\n",
    "    data = np.array(data)\n",
    "    \"\"\" we are finding index of min distance \"\"\"\n",
    "    index_dist = distance.argsort()\n",
    "    \"\"\" we arange our data acco. to index \"\"\"\n",
    "    data = data[index_dist]\n",
    "    distance = distance[index_dist]\n",
    "    \"\"\" we are slicing num number of datas \"\"\"\n",
    "    neighbors = data[:num]\n",
    "    neighbors_distance = distance[:num]\n",
    "    return neighbors, neighbors_distance"
   ]
  },
  {
   "cell_type": "code",
   "execution_count": 74,
   "metadata": {},
   "outputs": [],
   "source": [
    "def predict_classification(train, test_row, num):\n",
    "    neighbors , neighbors_distance = Get_Neighbors(train, test_row, num)\n",
    "    Classes = []\n",
    "    neighbors_list = neighbors.tolist()\n",
    "    neighbors_distance_list = neighbors_distance.tolist()\n",
    "    max_idx = neighbors_distance_list.index(max(neighbors_distance_list))\n",
    "    max_distance = max(neighbors_distance_list)\n",
    "    weighted = []\n",
    "    if max(neighbors_distance_list) ==  min(neighbors_distance_list):\n",
    "        for i in range(0,num):\n",
    "            weighted.append(1)\n",
    "    elif max(neighbors_distance_list) !=  min(neighbors_distance_list):\n",
    "        for i in range(0,num):\n",
    "            x = neighbors_distance_list[i]\n",
    "            w = (max_distance - x) / (max_distance - neighbors_distance_list[0])\n",
    "            weighted.append(w)\n",
    "    sum_weighted=[0,0,0]\n",
    "    for element in neighbors_list:\n",
    "        idx = neighbors_list.index(element)\n",
    "        if int(element[2]) == 1:\n",
    "            sum_weighted[0] = sum_weighted[0] +  weighted[idx]\n",
    "        if int(element[2]) == 2:\n",
    "            sum_weighted[1] = sum_weighted[1] +  weighted[idx]\n",
    "        if int(element[2]) == 3:\n",
    "            sum_weighted[2] = sum_weighted[2] +  weighted[idx]\n",
    "    prediction = sum_weighted.index(max(sum_weighted)) +1 \n",
    "    # for i in Neighbors:\n",
    "    #     Classes.append(i[-1])\n",
    "    # prediction = max(Classes, key= Classes.count)\n",
    "    return prediction"
   ]
  },
  {
   "cell_type": "code",
   "execution_count": 73,
   "metadata": {},
   "outputs": [
    {
     "name": "stdout",
     "output_type": "stream",
     "text": [
      "3\n"
     ]
    }
   ],
   "source": [
    "test = [3.0,2.0]\n",
    "prediction = predict_classification(dataset, test, 5)\n",
    "print(prediction)"
   ]
  }
 ],
 "metadata": {
  "kernelspec": {
   "display_name": "base",
   "language": "python",
   "name": "python3"
  },
  "language_info": {
   "codemirror_mode": {
    "name": "ipython",
    "version": 3
   },
   "file_extension": ".py",
   "mimetype": "text/x-python",
   "name": "python",
   "nbconvert_exporter": "python",
   "pygments_lexer": "ipython3",
   "version": "3.9.13"
  },
  "orig_nbformat": 4
 },
 "nbformat": 4,
 "nbformat_minor": 2
}
